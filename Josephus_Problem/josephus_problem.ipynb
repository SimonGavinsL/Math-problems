{
 "cells": [
  {
   "cell_type": "markdown",
   "metadata": {},
   "source": [
    "# Josephus Problem\n",
    "\n",
    "## Statement\n",
    "There are $n$ people from number $1$ to $n$ standing in a circle and starting from number $1$, every $k$-th person is killed. Who is the final survived?\n",
    "\n",
    "## Solution\n",
    "$$n, k \\in N+$$\n",
    "\n",
    "$$f(1, k) = 1$$\n",
    "\n",
    "$$\n",
    "f(n, k) =\n",
    "\\begin{cases}\n",
    "f(n - 1, k) + k - (n - 1) & \\text{if result is larger than $n - 1$, otherwise}\\\\\n",
    "f(n - 1, k) + k\n",
    "\\end{cases}\n",
    "\\text{, $n > 1$}\n",
    "$$\n",
    "\n",
    "## Reference\n",
    "[现实中的鱿鱼游戏，你能成功活到最后吗？——约瑟夫问题](https://youtu.be/Yeh1_2GyS5s)"
   ]
  },
  {
   "cell_type": "code",
   "execution_count": 1,
   "metadata": {},
   "outputs": [],
   "source": [
    "def josephus_problem(n: int, k: int) -> int:\n",
    "    f = 1\n",
    "    for _ in range(n):\n",
    "        yield f\n",
    "        f = f + k - (_ + 2 if f + k > _ + 2 else 0)"
   ]
  },
  {
   "cell_type": "code",
   "execution_count": 2,
   "metadata": {},
   "outputs": [],
   "source": [
    "# Test cases\n",
    "assert list(josephus_problem(8, 3)) == [1, 2, 2, 1, 4, 1, 4, 7]"
   ]
  }
 ],
 "metadata": {
  "interpreter": {
   "hash": "aee8b7b246df8f9039afb4144a1f6fd8d2ca17a180786b69acc140d282b71a49"
  },
  "kernelspec": {
   "display_name": "Python 3.9.2 64-bit",
   "name": "python3"
  },
  "language_info": {
   "codemirror_mode": {
    "name": "ipython",
    "version": 3
   },
   "file_extension": ".py",
   "mimetype": "text/x-python",
   "name": "python",
   "nbconvert_exporter": "python",
   "pygments_lexer": "ipython3",
   "version": "3.9.9"
  },
  "orig_nbformat": 4
 },
 "nbformat": 4,
 "nbformat_minor": 2
}
